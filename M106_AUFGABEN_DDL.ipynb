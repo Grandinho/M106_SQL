{
    "metadata": {
        "kernelspec": {
            "name": "SQL",
            "display_name": "SQL",
            "language": "sql"
        },
        "language_info": {
            "name": "sql",
            "version": ""
        }
    },
    "nbformat_minor": 2,
    "nbformat": 4,
    "cells": [
        {
            "cell_type": "markdown",
            "source": [
                "# **Übungsaufgaben DDL**\n",
                "\n",
                "Dieser Übungsblock enthält Aufgaben zum Thema \"Datenbankschema (DDL)\". Löse die Aufgaben am besten in der gestellten Reihenfolge."
            ],
            "metadata": {
                "azdata_cell_guid": "465e6588-382c-4b85-bc8f-6dc760925f7c"
            },
            "attachments": {}
        },
        {
            "cell_type": "markdown",
            "source": [
                "## Grundlagen\n",
                "\n",
                "Mache dir über folgende Aussagen Gedanken und bespreche sie anschliessend mit den anderen Kursteilnehmern.\n",
                "\n",
                "**Aussage 1**: Ein geeigneter Datentyp für die Hausnummer ist int.\n",
                "\n",
                "**Aussage 2:** Ein geeigneter Typ für die Postleitzahl ist int.\n",
                "\n",
                "**Aussage 3:** Für kaufmännische Daten ist money ein wichtiger Datentyp.\n",
                "\n",
                "**Aussage 4:** Money ist ein Standard-Datentyp und existiert auch auf anderen DBMS.\n",
                "\n",
                "**Aussage 5:** VARCHAR ist platzsparender als CHAR"
            ],
            "metadata": {
                "azdata_cell_guid": "f61bb919-d67a-4077-97a9-39aa466753ae"
            },
            "attachments": {}
        },
        {
            "cell_type": "markdown",
            "source": [
                "## CREATE\n",
                "\n",
                "Diese Aufgaben kannst du nach Behandlung des CREATE-Blocks lösen."
            ],
            "metadata": {
                "azdata_cell_guid": "e3cdb4db-4d44-4c26-abc5-7218fef51a73"
            },
            "attachments": {}
        },
        {
            "cell_type": "markdown",
            "source": [
                "**1.1** Erstelle eine neue Datenbank mit dem Namen _Adressdatenbank_."
            ],
            "metadata": {
                "azdata_cell_guid": "4f4a5caa-c2fb-4c91-ad42-bc9d820cec35"
            },
            "attachments": {}
        },
        {
            "cell_type": "code",
            "source": [
                "\r\n",
                "\r\n",
                "use master\r\n",
                "Drop Database if exists Adressdatenbank\r\n",
                "Create Database Adressdatenbank\r\n",
                "go"
            ],
            "metadata": {
                "azdata_cell_guid": "2c9981bc-f063-4be6-af65-6e370478a1cb",
                "language": "sql"
            },
            "outputs": [
                {
                    "output_type": "display_data",
                    "data": {
                        "text/html": "Query was canceled by user"
                    },
                    "metadata": {}
                },
                {
                    "output_type": "error",
                    "evalue": "Query failed: The operation was canceled.",
                    "ename": "",
                    "traceback": []
                },
                {
                    "output_type": "display_data",
                    "data": {
                        "text/html": "Query was canceled by user"
                    },
                    "metadata": {}
                },
                {
                    "output_type": "display_data",
                    "data": {
                        "text/html": "Total execution time: 00:00:01.462"
                    },
                    "metadata": {}
                }
            ],
            "execution_count": 28
        },
        {
            "cell_type": "markdown",
            "source": [
                "**1.2** Erstelle eine neue Tabelle _Person_ mit den folgenden Feldern: _id, anrede, vorname, nachname, strasse, hausnummer, plz, ort, land_. Wähle dabei geeignete Datentypen aus."
            ],
            "metadata": {
                "azdata_cell_guid": "8d382797-1054-437f-ab4a-6fc02918d77d"
            },
            "attachments": {}
        },
        {
            "cell_type": "code",
            "source": [
                "use Adressdatenbank\r\n",
                "go\r\n",
                "\r\n",
                "Create Table Person (\r\n",
                "    id INT,\r\n",
                "    anrede VARCHAR(50),\r\n",
                "    vorname VARCHAR(50),\r\n",
                "    nachname VARCHAR(50),\r\n",
                "    hausnummer VARCHAR(10),\r\n",
                "    plz VARCHAR(20),\r\n",
                "    ort VARCHAR(50),\r\n",
                "    land VARCHAR(50)\r\n",
                ")"
            ],
            "metadata": {
                "azdata_cell_guid": "cb444221-890b-4a74-b5f1-7b52c4256812",
                "language": "sql",
                "tags": []
            },
            "outputs": [
                {
                    "output_type": "display_data",
                    "data": {
                        "text/html": "Commands completed successfully."
                    },
                    "metadata": {}
                },
                {
                    "output_type": "display_data",
                    "data": {
                        "text/html": "Commands completed successfully."
                    },
                    "metadata": {}
                },
                {
                    "output_type": "display_data",
                    "data": {
                        "text/html": "Total execution time: 00:00:00.009"
                    },
                    "metadata": {}
                }
            ],
            "execution_count": 42
        },
        {
            "cell_type": "markdown",
            "source": [
                "**1.3** Erstelle eine neue Tabelle _Telefon_ mit den folgenden Feldern: id, personId, typ, nummer. Wähle auch hier geeignete Datentypen aus."
            ],
            "metadata": {
                "azdata_cell_guid": "0bf697ea-f30b-46b8-b518-bcbf7eeda43d"
            },
            "attachments": {}
        },
        {
            "cell_type": "code",
            "source": [
                "Create Table Telefon(\r\n",
                "    id int IDENTITY(1,1) PRIMARY KEY,\r\n",
                "    personid int,\r\n",
                "    typ VARCHAR(50),\r\n",
                "    nummer VARCHAR(30)\r\n",
                "\r\n",
                "    foreign key (personid) references Person(id)\r\n",
                ")"
            ],
            "metadata": {
                "azdata_cell_guid": "6939d3e6-dae3-445a-bbe7-8bd66affb9be",
                "language": "sql"
            },
            "outputs": [
                {
                    "output_type": "display_data",
                    "data": {
                        "text/html": "Commands completed successfully."
                    },
                    "metadata": {}
                },
                {
                    "output_type": "display_data",
                    "data": {
                        "text/html": "Total execution time: 00:00:00.011"
                    },
                    "metadata": {}
                }
            ],
            "execution_count": 30
        },
        {
            "cell_type": "markdown",
            "source": [
                "**1.4** Erstelle eine neue Tabelle _Notizen_ mit den folgenden Feldern: _id, personId, notiz_. Wähle hier geeignete Datentypen aus."
            ],
            "metadata": {
                "azdata_cell_guid": "4f12d52f-0550-4e44-b615-14377a0a45b7"
            },
            "attachments": {}
        },
        {
            "cell_type": "code",
            "source": [
                "Create TABLE Notizen(\r\n",
                "    id int IDENTITY(1,1) PRIMARY KEY,\r\n",
                "    personid int,\r\n",
                "    notiz VARCHAR(100)\r\n",
                "\r\n",
                "    Foreign Key (personid) references Person(id)\r\n",
                ")"
            ],
            "metadata": {
                "azdata_cell_guid": "412644b8-a3ba-4bea-9526-09b1949aaa5a",
                "tags": [],
                "language": "sql"
            },
            "outputs": [
                {
                    "output_type": "display_data",
                    "data": {
                        "text/html": "Commands completed successfully."
                    },
                    "metadata": {}
                },
                {
                    "output_type": "display_data",
                    "data": {
                        "text/html": "Total execution time: 00:00:00.011"
                    },
                    "metadata": {}
                }
            ],
            "execution_count": 31
        },
        {
            "cell_type": "markdown",
            "source": [
                "## ALTER\n",
                "\n",
                "Führe diese Aufgaben nach Behandlung des ALTER-Blocks aus."
            ],
            "metadata": {
                "azdata_cell_guid": "89facc2b-e784-47b9-a73a-e3e6584b9e2f"
            },
            "attachments": {}
        },
        {
            "cell_type": "markdown",
            "source": [
                "**2.1** Verändere die Tabelle _Person_, füge eine neue Spalte für einen zweiten Vornamen ein. Wähle dazu einen passenden Datentyp und einen entsprechenden Spaltennamen."
            ],
            "metadata": {
                "azdata_cell_guid": "d6317bec-7758-421b-b1a5-23747b8c67cf"
            },
            "attachments": {}
        },
        {
            "cell_type": "code",
            "source": [
                "Alter Table Person add Vorname2 VARCHAR(50)"
            ],
            "metadata": {
                "azdata_cell_guid": "428010b4-df48-4333-83c9-f97a92de60cb",
                "language": "sql"
            },
            "outputs": [
                {
                    "output_type": "display_data",
                    "data": {
                        "text/html": "Commands completed successfully."
                    },
                    "metadata": {}
                },
                {
                    "output_type": "display_data",
                    "data": {
                        "text/html": "Total execution time: 00:00:00.011"
                    },
                    "metadata": {}
                }
            ],
            "execution_count": 32
        },
        {
            "cell_type": "markdown",
            "source": [
                "**2.2** Verändere die Tabelle _Person_, füge eine neue Spalte für ein _Geburtsdatum_ ein. Wähle hierzu einen passenden Datentyp."
            ],
            "metadata": {
                "azdata_cell_guid": "24648a12-7ecd-4a43-9216-44ee4d635109"
            },
            "attachments": {}
        },
        {
            "cell_type": "code",
            "source": [
                "Alter Table Person add Geburtsdatum DATE"
            ],
            "metadata": {
                "azdata_cell_guid": "58f36f43-6bd5-445c-8b6c-b81a70c881f8",
                "language": "sql"
            },
            "outputs": [
                {
                    "output_type": "display_data",
                    "data": {
                        "text/html": "Commands completed successfully."
                    },
                    "metadata": {}
                },
                {
                    "output_type": "display_data",
                    "data": {
                        "text/html": "Total execution time: 00:00:00.009"
                    },
                    "metadata": {}
                }
            ],
            "execution_count": 33
        },
        {
            "cell_type": "markdown",
            "source": [
                "**2.3** Verändere die Tabelle _Telefon_, verändere den Typ der Spalte _Typ_. Neu soll dieses Feld nicht mehr frei änderbar sein, sondern du sollst zwischen _P_, _N_ oder _G_ aussuchen müssen."
            ],
            "metadata": {
                "azdata_cell_guid": "c6bed2e6-87b5-43a6-8e22-20e32d992c4b"
            },
            "attachments": {}
        },
        {
            "cell_type": "code",
            "source": [
                "Alter Table Telefon add check(typ = 'P' or typ = 'N' or typ = 'G')"
            ],
            "metadata": {
                "azdata_cell_guid": "d077b923-8cb3-423d-be53-b157b3f8b521",
                "language": "sql"
            },
            "outputs": [
                {
                    "output_type": "display_data",
                    "data": {
                        "text/html": "Commands completed successfully."
                    },
                    "metadata": {}
                },
                {
                    "output_type": "display_data",
                    "data": {
                        "text/html": "Total execution time: 00:00:00.002"
                    },
                    "metadata": {}
                }
            ],
            "execution_count": 34
        },
        {
            "cell_type": "markdown",
            "source": [
                "**2.4** Erstelle eine Spalte _Notiz_ auf der Person. Wähle den passenden Datentyp."
            ],
            "metadata": {
                "azdata_cell_guid": "661782e0-6f8d-4a2c-8435-4f8fddef1a6b"
            },
            "attachments": {}
        },
        {
            "cell_type": "code",
            "source": [
                "Alter Table Person add Notiz VARCHAR(100)"
            ],
            "metadata": {
                "azdata_cell_guid": "1144ef34-0ea9-413f-9d0b-117ee9dbd2c2",
                "language": "sql"
            },
            "outputs": [
                {
                    "output_type": "display_data",
                    "data": {
                        "text/html": "Commands completed successfully."
                    },
                    "metadata": {}
                },
                {
                    "output_type": "display_data",
                    "data": {
                        "text/html": "Total execution time: 00:00:00.001"
                    },
                    "metadata": {}
                }
            ],
            "execution_count": 35
        },
        {
            "cell_type": "markdown",
            "source": [
                "**2.5** Lösche die Spalte _notiz_ aus der Tabelle _Notizen_."
            ],
            "metadata": {
                "azdata_cell_guid": "99705faa-21fd-466c-a96d-1d5a8a93aca0"
            },
            "attachments": {}
        },
        {
            "cell_type": "code",
            "source": [
                "Alter Table Notizen drop column Notiz"
            ],
            "metadata": {
                "azdata_cell_guid": "13f9ffdf-4956-480a-ba05-0cf714b295b3",
                "language": "sql"
            },
            "outputs": [
                {
                    "output_type": "display_data",
                    "data": {
                        "text/html": "Commands completed successfully."
                    },
                    "metadata": {}
                },
                {
                    "output_type": "display_data",
                    "data": {
                        "text/html": "Total execution time: 00:00:00.012"
                    },
                    "metadata": {}
                }
            ],
            "execution_count": 36
        },
        {
            "cell_type": "markdown",
            "source": [
                "## DROP\n",
                "\n",
                "Führe diese Aufgaben nach Behandlung des DROP-Blocks aus."
            ],
            "metadata": {
                "azdata_cell_guid": "cfeb3fe3-c82b-44e2-993a-c63ba91f20e2"
            },
            "attachments": {}
        },
        {
            "cell_type": "markdown",
            "source": [
                "**3.1** Lösche die Tabelle _Notizen_."
            ],
            "metadata": {
                "azdata_cell_guid": "673eb760-c9ac-440e-bc17-4cffc042cdf7"
            },
            "attachments": {}
        },
        {
            "cell_type": "code",
            "source": [
                "Drop table notizen"
            ],
            "metadata": {
                "azdata_cell_guid": "04c4528f-508d-437c-8e77-fbb18f540cbd",
                "language": "sql"
            },
            "outputs": [
                {
                    "output_type": "display_data",
                    "data": {
                        "text/html": "Commands completed successfully."
                    },
                    "metadata": {}
                },
                {
                    "output_type": "display_data",
                    "data": {
                        "text/html": "Total execution time: 00:00:00.011"
                    },
                    "metadata": {}
                }
            ],
            "execution_count": 37
        },
        {
            "cell_type": "markdown",
            "source": [
                "## RENAME\n",
                "\n",
                "Führe diese Aufgaben nach der Behandlung des RENAME-Blocks aus."
            ],
            "metadata": {
                "azdata_cell_guid": "c8d210d4-a1c5-4c21-a649-3e136258115f"
            },
            "attachments": {}
        },
        {
            "cell_type": "markdown",
            "source": [
                "**4.1** Benenne die Tabelle _Telefon_ in _Phone_ um."
            ],
            "metadata": {
                "azdata_cell_guid": "9575fee3-096a-4b57-9c74-e6965f13b345"
            },
            "attachments": {}
        },
        {
            "cell_type": "code",
            "source": [
                "\r\n",
                "exec sp_rename Telefon, Phone"
            ],
            "metadata": {
                "azdata_cell_guid": "880bf802-8bee-4a0e-972e-da430e555aed",
                "language": "sql"
            },
            "outputs": [
                {
                    "output_type": "display_data",
                    "data": {
                        "text/html": "Commands completed successfully."
                    },
                    "metadata": {}
                },
                {
                    "output_type": "display_data",
                    "data": {
                        "text/html": "Total execution time: 00:00:00.012"
                    },
                    "metadata": {}
                }
            ],
            "execution_count": 41
        },
        {
            "cell_type": "markdown",
            "source": [
                "## Schlüsselfelder\n",
                "\n",
                "Führe diese Aufgaben nach Behandlung der Schlüsselfelder aus.\n",
                "\n",
                "**Hinweis**: Diese Aufgaben beziehen sich auf die Mustertabelle des Kapitels \"CREATE\" und den nachfolgenden Änderungen."
            ],
            "metadata": {
                "azdata_cell_guid": "e694df87-e58d-47ac-88fe-e83cd2658430"
            },
            "attachments": {}
        },
        {
            "cell_type": "markdown",
            "source": [
                "**5.1** Erstelle einen Primärschlüssel für das Feld \"id\" in der Tabelle \"Person\". Der Wert soll automatisch inkrementieren."
            ],
            "metadata": {
                "azdata_cell_guid": "d549e3bb-89f1-4205-a6ef-b38218a4f648"
            },
            "attachments": {}
        },
        {
            "cell_type": "code",
            "source": [
                "Alter Table Person add Primary Key(id) "
            ],
            "metadata": {
                "azdata_cell_guid": "7aa166b6-9d1c-4b33-a0ba-a0ba9bd8f750",
                "tags": [],
                "language": "sql"
            },
            "outputs": [
                {
                    "output_type": "error",
                    "evalue": "Msg 156, Level 15, State 1, Line 2\r\nFalsche Syntax in der Nähe des IDENTITY-Schlüsselworts.",
                    "ename": "",
                    "traceback": []
                },
                {
                    "output_type": "display_data",
                    "data": {
                        "text/html": "Total execution time: 00:00:00"
                    },
                    "metadata": {}
                }
            ],
            "execution_count": 44
        },
        {
            "cell_type": "markdown",
            "source": [
                "**5.2** Erstelle einen Primärschlüssel für das Feld \"id\" in der Tabelle \"Phone\". Der Wert soll nicht inkementieren."
            ],
            "metadata": {
                "azdata_cell_guid": "382fdde4-254b-4721-bac7-77208df17673"
            },
            "attachments": {}
        },
        {
            "cell_type": "code",
            "source": [
                "Alter Table Phone add Primary Key(id)"
            ],
            "metadata": {
                "azdata_cell_guid": "09810f77-26b0-4373-89bf-642bc24ccb1f",
                "language": "sql"
            },
            "outputs": [],
            "execution_count": null
        },
        {
            "cell_type": "markdown",
            "source": [
                "**5.3** Erstelle einen Fremdschlüssel für das Feld \"personId\" in der Tabelle \"Phone\". Der Wert soll auf die Tabelle \"Person\" und das Feld \"id\" referenzieren."
            ],
            "metadata": {
                "azdata_cell_guid": "79b0eb02-09dc-408c-9c5a-ad1c8a23d14a"
            },
            "attachments": {}
        },
        {
            "cell_type": "code",
            "source": [
                "Alter Table Phone add foreign Key (Personid) REFERENCES Person(id)"
            ],
            "metadata": {
                "azdata_cell_guid": "63a73fd1-89e6-4fee-8be8-45ac4706fec1",
                "language": "sql"
            },
            "outputs": [
                {
                    "output_type": "display_data",
                    "data": {
                        "text/html": "Commands completed successfully."
                    },
                    "metadata": {}
                },
                {
                    "output_type": "display_data",
                    "data": {
                        "text/html": "Total execution time: 00:00:00.009"
                    },
                    "metadata": {}
                }
            ],
            "execution_count": 26
        }
    ]
}